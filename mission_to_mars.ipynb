{
 "cells": [
  {
   "cell_type": "code",
   "execution_count": null,
   "id": "d0482b4e",
   "metadata": {},
   "outputs": [],
   "source": [
    "# Import Dependencies\n",
    "from splinter import Browser\n",
    "from bs4 import BeautifulSoup\n",
    "from webdriver_manager.chrome import ChromeDriverManager\n",
    "import os\n",
    "import requests\n",
    "import pandas as pd"
   ]
  },
  {
   "cell_type": "code",
   "execution_count": null,
   "id": "3d0cddad",
   "metadata": {
    "scrolled": true
   },
   "outputs": [],
   "source": [
    "executable_path = {'executable_path': ChromeDriverManager().install()}\n",
    "browser = Browser('chrome', **executable_path, headless=False)"
   ]
  },
  {
   "cell_type": "code",
   "execution_count": null,
   "id": "dbd7521c",
   "metadata": {},
   "outputs": [],
   "source": [
    "mars_news_url = 'https://redplanetscience.com/'\n",
    "browser.visit(mars_news_url)"
   ]
  },
  {
   "cell_type": "code",
   "execution_count": null,
   "id": "3c296b13",
   "metadata": {
    "scrolled": true
   },
   "outputs": [],
   "source": [
    "html = browser.html\n",
    "soup = BeautifulSoup(html, 'html.parser')\n",
    "news = soup.find_all('div', class_='list_text')\n",
    "\n",
    "for items in news:\n",
    "    try:\n",
    "        news_title= items.find('div', class_=\"content_title\").text\n",
    "        news_p = items.find('div', class_=\"article_teaser_body\").text\n",
    "        print('-----------')\n",
    "        print(news_title)\n",
    "        print('')\n",
    "        print(news_p)\n",
    "    except AttributeError:\n",
    "        next"
   ]
  },
  {
   "cell_type": "code",
   "execution_count": null,
   "id": "1d076331",
   "metadata": {},
   "outputs": [],
   "source": [
    "browser.quit()"
   ]
  },
  {
   "cell_type": "code",
   "execution_count": null,
   "id": "cadd7eb3",
   "metadata": {},
   "outputs": [],
   "source": [
    "space_img_url = 'https://spaceimages-mars.com'\n",
    "browser.visit(space_img_url)"
   ]
  },
  {
   "cell_type": "code",
   "execution_count": null,
   "id": "07b04985",
   "metadata": {},
   "outputs": [],
   "source": [
    "html = browser.html\n",
    "    # Parse HTML with Beautiful Soup\n",
    "soup = BeautifulSoup(html, 'html.parser')\n",
    "    # Retrieve all elements that contain book information\n",
    "images = soup.find_all('div', class_='thmb')\n",
    "for image in images:\n",
    "    group= image.find('img')\n",
    "    image_url=group['src']\n",
    "    image_url=image_url.replace(\" \",\"%20\")\n",
    "    featured_image_url= f\"{url}/{image_url}\"\n",
    "    print(featured_image_url)"
   ]
  },
  {
   "cell_type": "code",
   "execution_count": null,
   "id": "c1d85ae0",
   "metadata": {},
   "outputs": [],
   "source": [
    "browser.quit()\n"
   ]
  },
  {
   "cell_type": "code",
   "execution_count": null,
   "id": "b842a77f",
   "metadata": {},
   "outputs": [],
   "source": [
    "mars_facts_url = \"https://galaxyfacts-mars.com/\"\n"
   ]
  },
  {
   "cell_type": "code",
   "execution_count": null,
   "id": "b7560950",
   "metadata": {},
   "outputs": [],
   "source": [
    "tables = pd.read_html(mars_facts_url)\n"
   ]
  },
  {
   "cell_type": "code",
   "execution_count": null,
   "id": "193dafd3",
   "metadata": {},
   "outputs": [],
   "source": [
    "df = tables[0]\n",
    "new_header = df.iloc[0]\n",
    "df = df[1:]\n",
    "df.columns = new_header"
   ]
  },
  {
   "cell_type": "code",
   "execution_count": null,
   "id": "3e8d1e9e",
   "metadata": {},
   "outputs": [],
   "source": [
    "html_table = df.to_html()\n",
    "html_table"
   ]
  },
  {
   "cell_type": "code",
   "execution_count": null,
   "id": "7865c3bd",
   "metadata": {},
   "outputs": [],
   "source": [
    "executable_path = {'executable_path': ChromeDriverManager().install()}\n",
    "browser = Browser('chrome', **executable_path, headless=False)"
   ]
  },
  {
   "cell_type": "code",
   "execution_count": null,
   "id": "ae726a18",
   "metadata": {},
   "outputs": [],
   "source": [
    "hemisph_url = 'https://marshemispheres.com/'\n",
    "browser.visit(hemisph_url)"
   ]
  },
  {
   "cell_type": "code",
   "execution_count": null,
   "id": "75528579",
   "metadata": {},
   "outputs": [],
   "source": [
    "html = browser.html\n",
    "soup = BeautifulSoup(html, 'html.parser')\n",
    "\n",
    "results = soup.find_all('div', class_='item')\n",
    "hemisphere_image_urls=[]\n",
    "\n",
    "for result in results:\n",
    "    title = result.find('h3').text\n",
    "    img = result.find('img',class_='thumb')\n",
    "    imgs = img['src']\n",
    "    img_url=url+imgs\n",
    "\n",
    "    \n",
    "    hemisphere_dict = {\n",
    "        'title': title,\n",
    "        'img_url': img_url\n",
    "    }\n",
    "    hemisphere_image_urls.append(hemisphere_dict)"
   ]
  },
  {
   "cell_type": "code",
   "execution_count": null,
   "id": "b2a9f298",
   "metadata": {},
   "outputs": [],
   "source": [
    "hemisphere_image_urls\n"
   ]
  },
  {
   "cell_type": "code",
   "execution_count": null,
   "id": "82e9fbc0",
   "metadata": {},
   "outputs": [],
   "source": [
    "browser.quit()\n"
   ]
  },
  {
   "cell_type": "code",
   "execution_count": null,
   "id": "940843a2",
   "metadata": {},
   "outputs": [],
   "source": [
    "executable_path = {'executable_path': ChromeDriverManager().install()}\n",
    "browser = Browser('chrome', **executable_path, headless=False)\n",
    "\n",
    "url = 'https://marshemispheres.com/'\n",
    "browser.visit(url)\n",
    "\n",
    "html = browser.html\n",
    "soup = BeautifulSoup(html, 'html.parser')\n",
    "\n",
    "results = soup.find_all('div', class_='item')\n",
    "hemisphere_image_urls=[]\n",
    "\n",
    "for result in results:\n",
    "    title = result.find('h3').text\n",
    "    img = result.find('img',class_='thumb')\n",
    "    imgs = img['src']\n",
    "    img_url=url+imgs\n",
    "        \n",
    "    hemisphere_dict = {\n",
    "        'title': title,\n",
    "        'img_url': img_url\n",
    "    }\n",
    "    hemisphere_image_urls.append(hemisphere_dict)\n",
    "browser.quit()\n",
    "print(hemisphere_image_urls)\n"
   ]
  },
  {
   "cell_type": "code",
   "execution_count": null,
   "id": "3a766baf",
   "metadata": {},
   "outputs": [],
   "source": [
    "html_table\n"
   ]
  },
  {
   "cell_type": "code",
   "execution_count": null,
   "id": "effc9a94",
   "metadata": {},
   "outputs": [],
   "source": []
  }
 ],
 "metadata": {
  "kernelspec": {
   "display_name": "Python 3",
   "language": "python",
   "name": "python3"
  },
  "language_info": {
   "codemirror_mode": {
    "name": "ipython",
    "version": 3
   },
   "file_extension": ".py",
   "mimetype": "text/x-python",
   "name": "python",
   "nbconvert_exporter": "python",
   "pygments_lexer": "ipython3",
   "version": "3.8.8"
  }
 },
 "nbformat": 4,
 "nbformat_minor": 5
}
